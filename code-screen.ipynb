{
  "nbformat": 4,
  "nbformat_minor": 0,
  "metadata": {
    "kernelspec": {
      "display_name": "Python 3",
      "language": "python",
      "name": "python3"
    },
    "language_info": {
      "codemirror_mode": {
        "name": "ipython",
        "version": 3
      },
      "file_extension": ".py",
      "mimetype": "text/x-python",
      "name": "python",
      "nbconvert_exporter": "python",
      "pygments_lexer": "ipython3",
      "version": "3.6.4"
    },
    "colab": {
      "name": "code-screen.ipynb",
      "provenance": [],
      "collapsed_sections": []
    }
  },
  "cells": [
    {
      "cell_type": "markdown",
      "metadata": {
        "id": "QLe0u0MNIPSl",
        "colab_type": "text"
      },
      "source": [
        "# PwC Code Screen\n",
        "\n",
        "Thank you for taking the time to complete this code screen. Below you will find 5 programming questions which you will answer in either Python (Qs. 1, 2, 3, and 5) or SQL (Qs. 4). For each question, please carefully review the problem statement and then complete your solution in the following code cell block.\n",
        "\n",
        "The questions in this document are primarily designed to test your basic proficiency with Python and SQL. Therefore, you will not need to install, import/load, or use any non-standard libraries aside from the import statements we have already provided (i.e., `json` and `pandas` in Qs. 3 and `pickle` in Qs. 5). Please do not import any other libraries.\n",
        "\n",
        "At the bottom of each cell block, we invoke the function that you will write with a test case. We also provide the expected solution for the example test case. Ideal submissions will not only solve for these example test cases, but also for the general case as described in the problem statement.\n",
        "\n",
        "When you are finished, please run the cells for your solutions in order from top to bottom in this notebook (i.e., click `Kernel > Restart Kernel and Run All Cells...`)."
      ]
    },
    {
      "cell_type": "markdown",
      "metadata": {
        "id": "d3y-SacAIPSm",
        "colab_type": "text"
      },
      "source": [
        "# 1. FizzBuzz\n",
        "\n",
        "Given a number **n**, print each integer **i** from 1 to **n** _inclusively_ as follows:\n",
        "\n",
        "- If **i** is divisible by 3 (but not 5), print `Fizz`\n",
        "- If **i** is divisible by 5 (but not 3), print `Buzz`\n",
        "- If **i** is divisible by both 3 and 5, print `FizzBuzz`\n",
        "- Otherwise, if none of the above are true, just print the value of **i**\n",
        "\n",
        "Complete the function `fizz_buzz()` below to achieve the above problem statement. As a bonus challenge, try to solve the problem with less than three conditional statements."
      ]
    },
    {
      "cell_type": "code",
      "metadata": {
        "id": "FN19YSqGIPSp",
        "colab_type": "code",
        "colab": {
          "base_uri": "https://localhost:8080/",
          "height": 372
        },
        "outputId": "d8d6092e-832e-4e43-8a1b-d7eecc764e9d"
      },
      "source": [
        "def fizz_buzz(n):\n",
        "    \n",
        "    # Complete the function\n",
        "    #\n",
        "    # Hint: Output each line with print(); this\n",
        "    # function does not need to return anything\n",
        "    for i in range(1,n+1):\n",
        "      if i%3 ==0 and i%5==0:\n",
        "        print(\"FizzBuzz\")\n",
        "      elif i%3 == 0:\n",
        "        print(\"Fizz\")        \n",
        "      elif i%5 == 0:\n",
        "        print(\"Buzz\")  \n",
        "      else:\n",
        "        print(i)  \n",
        "    return None\n",
        "\n",
        "\n",
        "# DO NOT EDIT BELOW...\n",
        "fizz_buzz(20)"
      ],
      "execution_count": 1,
      "outputs": [
        {
          "output_type": "stream",
          "text": [
            "1\n",
            "2\n",
            "Fizz\n",
            "4\n",
            "Buzz\n",
            "Fizz\n",
            "7\n",
            "8\n",
            "Fizz\n",
            "Buzz\n",
            "11\n",
            "Fizz\n",
            "13\n",
            "14\n",
            "FizzBuzz\n",
            "16\n",
            "17\n",
            "Fizz\n",
            "19\n",
            "Buzz\n"
          ],
          "name": "stdout"
        }
      ]
    },
    {
      "cell_type": "markdown",
      "metadata": {
        "id": "I6YbekhKIPSu",
        "colab_type": "text"
      },
      "source": [
        "**Solution:**\n",
        "\n",
        "```\n",
        "1\n",
        "2\n",
        "Fizz\n",
        "4\n",
        "Buzz\n",
        "Fizz\n",
        "7\n",
        "8\n",
        "Fizz\n",
        "Buzz\n",
        "11\n",
        "Fizz\n",
        "13\n",
        "14\n",
        "FizzBuzz\n",
        "16\n",
        "17\n",
        "Fizz\n",
        "19\n",
        "Buzz\n",
        "```"
      ]
    },
    {
      "cell_type": "markdown",
      "metadata": {
        "id": "_GFiZFqrIPSv",
        "colab_type": "text"
      },
      "source": [
        "# 2. List Comprehension\n",
        "\n",
        "Given a list of lists of integers, apply the square opration to all elements that are greater than zero and discard any elements that are less than or equal to zero. Note that not all lists will have the same number of elements.\n",
        "\n",
        "Take for example the input `[[-1, 1, 2, -2, 6], [3, 4, -5]]`. By first removing the elements less than or equal to zero, we get `[[1, 2, 6], [3, 4]]`. Then, squaring each remaining element, the final answer is `[[1, 4, 36], [9, 16]]`.\n",
        "\n",
        "Complete the function `list_comprehension()` below to achieve the problem statement _without_ using any loops (i.e., `while` or `for` statements)."
      ]
    },
    {
      "cell_type": "code",
      "metadata": {
        "id": "tWR2lKU8IPSw",
        "colab_type": "code",
        "colab": {
          "base_uri": "https://localhost:8080/",
          "height": 34
        },
        "outputId": "e8b565eb-d4ee-4327-9b33-2f6d2d18bfdf"
      },
      "source": [
        "def list_comprehension(arr):\n",
        "    \n",
        "    # Complete the function\n",
        "    #\n",
        "    # Hint: Do NOT use any loops\n",
        "    arr = list(map(lambda x : list(map(lambda y: y*y ,list(filter(lambda f : f>0 ,x)))),arr))\n",
        "    return arr\n",
        "\n",
        "\n",
        "# DO NOT EDIT BELOW...\n",
        "list_comprehension([[-1, 1, 2, -2, 6], [3, 4, -5]])"
      ],
      "execution_count": 42,
      "outputs": [
        {
          "output_type": "execute_result",
          "data": {
            "text/plain": [
              "[[1, 4, 36], [9, 16]]"
            ]
          },
          "metadata": {
            "tags": []
          },
          "execution_count": 42
        }
      ]
    },
    {
      "cell_type": "markdown",
      "metadata": {
        "id": "Gl1vDofMIPS0",
        "colab_type": "text"
      },
      "source": [
        "**Solution:**\n",
        "\n",
        "```\n",
        "[[1, 4, 36], [9, 16]]\n",
        "```"
      ]
    },
    {
      "cell_type": "markdown",
      "metadata": {
        "id": "UP5Xy7LfIPS0",
        "colab_type": "text"
      },
      "source": [
        "# 3. JSON DataFrame\n",
        "\n",
        "Given an arbitrary JSON payload in the general form of `[{valA_1: keyA, valB_1: keyB, ...}, {valA_2: keyA, valB_2: keyB, ...}, ...]`, load the data into a DataFrame of the general form as follows:\n",
        "\n",
        "| $keyA$   | $keyB$   | $\\cdots$ |\n",
        "| -------- | -------- | -------- |\n",
        "| $valA_1$ | $valB_1$ | $\\cdots$ |\n",
        "| $valA_2$ | $valB_2$ | $\\cdots$ |\n",
        "| $\\vdots$ | $\\vdots$ | $\\ddots$ |\n",
        "\n",
        "As a hint, to get you started, you should first invert each of the dictionaries. For example, `{valA_1: keyA, valB_1: keyB}` would invert to become `{keyA: valA_1, keyB: valB_1}`."
      ]
    },
    {
      "cell_type": "code",
      "metadata": {
        "id": "JI0b7ubmIPS1",
        "colab_type": "code",
        "colab": {
          "base_uri": "https://localhost:8080/",
          "height": 34
        },
        "outputId": "b651dd57-453e-4ea7-b282-09b0031c7e6d"
      },
      "source": [
        "import json\n",
        "import pandas as pd\n",
        "\n",
        "\n",
        "def json_df(data):\n",
        "    \n",
        "    # Complete the function\n",
        "    #\n",
        "    # You may create other functions if you wish,\n",
        "    # but make sure this function accepts the JSON\n",
        "    # string as input and returns a Pandas DataFrame\n",
        "    cols=[]\n",
        "    rows=[]\n",
        "    for i in data:\n",
        "      row=[]\n",
        "      for k in i.keys():\n",
        "        if i[k] not in cols:\n",
        "          cols.append(i[k])\n",
        "        row.append(k)  \n",
        "      rows.append(row)  \n",
        "    data=pd.DataFrame(rows,columns = cols)\n",
        "    #data=data.to_string(index=False)  \n",
        "    return data.to_string(index=False)\n",
        "\n",
        "\n",
        "# DO NOT EDIT BELOW...\n",
        "json_df([\n",
        "    {\"a1\": \"A\", \"b1\": \"B\", \"c1\": \"C\"},\n",
        "    {\"a2\": \"A\", \"b2\": \"B\", \"c2\": \"C\"},\n",
        "    {\"a3\": \"A\", \"b3\": \"B\", \"c3\": \"C\"},\n",
        "    {\"a4\": \"A\", \"b4\": \"B\", \"c4\": \"C\"}\n",
        "])"
      ],
      "execution_count": 69,
      "outputs": [
        {
          "output_type": "execute_result",
          "data": {
            "text/plain": [
              "'  A   B   C\\n a1  b1  c1\\n a2  b2  c2\\n a3  b3  c3\\n a4  b4  c4'"
            ]
          },
          "metadata": {
            "tags": []
          },
          "execution_count": 69
        }
      ]
    },
    {
      "cell_type": "markdown",
      "metadata": {
        "id": "4iMrWoohIPS5",
        "colab_type": "text"
      },
      "source": [
        "**Solution:**\n",
        "    \n",
        "| A  | B  | C  |\n",
        "| -- | -- | -- |\n",
        "| a1 | b1 | c1 |\n",
        "| a2 | b2 | c2 |\n",
        "| a3 | b3 | c3 |\n",
        "| a4 | b4 | c4 |"
      ]
    },
    {
      "cell_type": "markdown",
      "metadata": {
        "id": "yPaO5Zs5IPS6",
        "colab_type": "text"
      },
      "source": [
        "# 4. Counting Votes with SQL\n",
        "\n",
        "Given a database of votes won by different candidates in an election, find the number of votes won by female candidates whose age is less than 50.\n",
        "\n",
        "## Schema\n",
        "\n",
        "There are two tables, `Candidates` and `Results`.\n",
        "\n",
        "### Candidates\n",
        "\n",
        "| Name   | Type | Description          |\n",
        "| ------ | ---- | -------------------- |\n",
        "| id     | INT  | Primary key.         |\n",
        "| gender | STR  | Gender of candidate. |\n",
        "| age    | INT  | Age of candidate.    |\n",
        "| party  | STR  | Party of candidate.  |\n",
        "\n",
        "### Results\n",
        "\n",
        "| Name            | Type | Description             |\n",
        "| --------------- | ---- | ----------------------- |\n",
        "| constituency_id | INT  | Constituency contested. |\n",
        "| candidate_id    | INT  | Foreign key.            |\n",
        "| votes           | INT  | Number of votes won.    |\n",
        "\n",
        "## Sample Data\n",
        "\n",
        "### Candidates\n",
        "\n",
        "| id | gender | age | party      |\n",
        "| -- | ------ | --- | ---------- |\n",
        "| 1  | M      | 55  | Democratic |\n",
        "| 2  | M      | 51  | Democratic |\n",
        "| 3  | F      | 49  | Democratic |\n",
        "| 4  | M      | 60  | Republic   |\n",
        "| 5  | F      | 61  | Republic   |\n",
        "| 6  | F      | 48  | Republic   |\n",
        "\n",
        "### Results\n",
        "\n",
        "| constituency_id | candidate_id | votes  |\n",
        "| --------------- | ------------ | ------ |\n",
        "| 1               | 1            | 847529 |\n",
        "| 1               | 4            | 283409 |\n",
        "| 2               | 2            | 293841 |\n",
        "| 2               | 5            | 394385 |\n",
        "| 3               | 3            | 429084 |\n",
        "| 3               | 6            | 303890 |\n",
        "\n",
        "### Expected Ouput\n",
        "\n",
        "732974\n",
        "\n",
        "### Explanation\n",
        "\n",
        "There are three female candidates contesting the election. Two of them are less than 50 years old. The sum of their votes is 429084 + 303890 = 732974.\n",
        "\n",
        "## Note\n",
        "\n",
        "You will need to write your SQL query so that it can run inside of this Jupyter Notebook. You should use SQL (not Python), but will need to prefix your query with `%sql`. First run the cells to load the Jupyter SQL extension and connect to the database (you do not need to edit these cells). Then write your query in the third cell; we have provided a sample query here that you can edit to get started."
      ]
    },
    {
      "cell_type": "code",
      "metadata": {
        "id": "a4JxwpBFIPS6",
        "colab_type": "code",
        "colab": {
          "base_uri": "https://localhost:8080/",
          "height": 70
        },
        "outputId": "836e751b-33ce-42fd-b731-0d893f5886a8"
      },
      "source": [
        "# DO NOT EDIT BELOW...\n",
        "%load_ext sql\n",
        "%sql sqlite:///codescreen.db"
      ],
      "execution_count": 30,
      "outputs": [
        {
          "output_type": "stream",
          "text": [
            "The sql extension is already loaded. To reload it, use:\n",
            "  %reload_ext sql\n"
          ],
          "name": "stdout"
        },
        {
          "output_type": "execute_result",
          "data": {
            "text/plain": [
              "'Connected: @codescreen.db'"
            ]
          },
          "metadata": {
            "tags": []
          },
          "execution_count": 30
        }
      ]
    },
    {
      "cell_type": "code",
      "metadata": {
        "id": "l-GfLV36IPS-",
        "colab_type": "code",
        "colab": {
          "base_uri": "https://localhost:8080/",
          "height": 87
        },
        "outputId": "1aab99b6-d1aa-4d09-efcd-606a5340e31b"
      },
      "source": [
        "# WRITE SQL QUERY HERE (LEAVE %sql PREFIX)\n",
        "%sql SELECT SUM(votes) total_votes FROM Results r INNER JOIN Candidates c ON c.id = r.candidate_id AND c.gender = 'F' AND c.age < 50 ;"
      ],
      "execution_count": 31,
      "outputs": [
        {
          "output_type": "stream",
          "text": [
            " * sqlite:///codescreen.db\n",
            "(sqlite3.OperationalError) no such table: Results\n",
            "[SQL: SELECT SUM(votes) total_votes FROM Results r INNER JOIN Candidates c ON c.id = r.candidate_id AND c.gender = 'F' AND c.age < 50]\n",
            "(Background on this error at: http://sqlalche.me/e/e3q8)\n"
          ],
          "name": "stdout"
        }
      ]
    },
    {
      "cell_type": "markdown",
      "metadata": {
        "id": "Xx4gJTwvIPTC",
        "colab_type": "text"
      },
      "source": [
        "# 5. Pickled Objects\n",
        "\n",
        "Write a function that accepts the path to a pickled function and reads it into memory.\n",
        "\n",
        "Hint: You should use the `pickle` library."
      ]
    },
    {
      "cell_type": "code",
      "metadata": {
        "id": "GAafTXGTIPTC",
        "colab_type": "code",
        "colab": {
          "base_uri": "https://localhost:8080/",
          "height": 327
        },
        "outputId": "377aee8e-82ff-4c7e-870e-bfe5afbc8d8e"
      },
      "source": [
        "import pickle\n",
        "\n",
        "\n",
        "def load_object(path):\n",
        "    \n",
        "    # Complete the function\n",
        "    obj = path\n",
        "    f=open(obj,\"rb\")\n",
        "    obj=pickle.load(f)\n",
        "    return obj \n",
        "\n",
        "\n",
        "# DO NOT EDIT BELOW...\n",
        "load_object(\"secret.pkl\")"
      ],
      "execution_count": 62,
      "outputs": [
        {
          "output_type": "error",
          "ename": "FileNotFoundError",
          "evalue": "ignored",
          "traceback": [
            "\u001b[0;31m---------------------------------------------------------------------------\u001b[0m",
            "\u001b[0;31mFileNotFoundError\u001b[0m                         Traceback (most recent call last)",
            "\u001b[0;32m<ipython-input-62-887ad29df945>\u001b[0m in \u001b[0;36m<module>\u001b[0;34m()\u001b[0m\n\u001b[1;32m     12\u001b[0m \u001b[0;34m\u001b[0m\u001b[0m\n\u001b[1;32m     13\u001b[0m \u001b[0;31m# DO NOT EDIT BELOW...\u001b[0m\u001b[0;34m\u001b[0m\u001b[0;34m\u001b[0m\u001b[0;34m\u001b[0m\u001b[0m\n\u001b[0;32m---> 14\u001b[0;31m \u001b[0mload_object\u001b[0m\u001b[0;34m(\u001b[0m\u001b[0;34m\"secret.pkl\"\u001b[0m\u001b[0;34m)\u001b[0m\u001b[0;34m\u001b[0m\u001b[0;34m\u001b[0m\u001b[0m\n\u001b[0m",
            "\u001b[0;32m<ipython-input-62-887ad29df945>\u001b[0m in \u001b[0;36mload_object\u001b[0;34m(path)\u001b[0m\n\u001b[1;32m      6\u001b[0m     \u001b[0;31m# Complete the function\u001b[0m\u001b[0;34m\u001b[0m\u001b[0;34m\u001b[0m\u001b[0;34m\u001b[0m\u001b[0m\n\u001b[1;32m      7\u001b[0m     \u001b[0mobj\u001b[0m \u001b[0;34m=\u001b[0m \u001b[0mpath\u001b[0m\u001b[0;34m\u001b[0m\u001b[0;34m\u001b[0m\u001b[0m\n\u001b[0;32m----> 8\u001b[0;31m     \u001b[0mf\u001b[0m\u001b[0;34m=\u001b[0m\u001b[0mopen\u001b[0m\u001b[0;34m(\u001b[0m\u001b[0mobj\u001b[0m\u001b[0;34m,\u001b[0m\u001b[0;34m\"rb\"\u001b[0m\u001b[0;34m)\u001b[0m\u001b[0;34m\u001b[0m\u001b[0;34m\u001b[0m\u001b[0m\n\u001b[0m\u001b[1;32m      9\u001b[0m     \u001b[0mobj\u001b[0m\u001b[0;34m=\u001b[0m\u001b[0mpickle\u001b[0m\u001b[0;34m.\u001b[0m\u001b[0mload\u001b[0m\u001b[0;34m(\u001b[0m\u001b[0mf\u001b[0m\u001b[0;34m)\u001b[0m\u001b[0;34m\u001b[0m\u001b[0;34m\u001b[0m\u001b[0m\n\u001b[1;32m     10\u001b[0m     \u001b[0;32mreturn\u001b[0m \u001b[0mobj\u001b[0m\u001b[0;34m\u001b[0m\u001b[0;34m\u001b[0m\u001b[0m\n",
            "\u001b[0;31mFileNotFoundError\u001b[0m: [Errno 2] No such file or directory: 'secret.pkl'"
          ]
        }
      ]
    },
    {
      "cell_type": "markdown",
      "metadata": {
        "id": "mQDQ8NVhIPTM",
        "colab_type": "text"
      },
      "source": [
        "**Solution:**\n",
        "\n",
        "```\n",
        "'You solved the challenge!'\n",
        "```"
      ]
    }
  ]
}